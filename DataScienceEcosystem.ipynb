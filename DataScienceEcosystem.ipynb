{
 "cells": [
  {
   "cell_type": "markdown",
   "id": "176a3a3a-e97d-4900-aacc-705edf634534",
   "metadata": {},
   "source": [
    "# Execute it as a markdown cell\n",
    "# H1: This is a level 1 Heading"
   ]
  },
  {
   "cell_type": "markdown",
   "id": "d72e3381-d0f2-4fa2-8259-6b2080ffea43",
   "metadata": {
    "tags": []
   },
   "source": [
    "# In this notebook, Data Science Tools and Ecosystem are summarized"
   ]
  },
  {
   "cell_type": "markdown",
   "id": "21151b14-8bf6-4198-8a00-9abf6774cb0f",
   "metadata": {},
   "source": [
    "**Objectives:**\n",
    "* Overview of Data Science Tools\n",
    "* Languages of Data Science\n",
    "* Packages, APIs, Datasets and Models\n",
    "* Jupyter Notebooks and Jupyter Lab\n",
    "* R Studio and GitHub"
   ]
  },
  {
   "cell_type": "markdown",
   "id": "06f1b496-d52b-462e-a4d4-b7cbcd057646",
   "metadata": {},
   "source": [
    "## H2: Author\n",
    "# Liana"
   ]
  },
  {
   "cell_type": "markdown",
   "id": "bcabcb66-ce62-4540-a915-801789d8a854",
   "metadata": {},
   "source": [
    "# Some of the popular languages that Data Scientists use are:\n",
    "1. Python\n",
    "2. Java\n",
    "3. C++\n",
    "4. C"
   ]
  },
  {
   "cell_type": "markdown",
   "id": "0e9332f8-b96c-4c8b-9879-af31a992da33",
   "metadata": {},
   "source": [
    "# Some of commonly used libraries used by Data Scientists include:\n",
    "1. NumPy\n",
    "2. Pandas\n",
    "3. Matplotlib\n",
    "4. Seaborn\n",
    "5. Scikit-learn\n",
    "6. TensoFlow\n",
    "7. PyTorch\n",
    "8. Keras\n",
    "9. Scrapy"
   ]
  },
  {
   "cell_type": "markdown",
   "id": "c6449029-65c8-41e7-bff9-240db219f09b",
   "metadata": {},
   "source": [
    "| Data Science Tools |\n",
    "| ------ |\n",
    "| Jupiter Notbooks |\n",
    "| R Studio |\n",
    "| Apache Spark |"
   ]
  },
  {
   "cell_type": "markdown",
   "id": "33d7fb73-eef1-4ea3-b49c-8a92a7317b28",
   "metadata": {},
   "source": [
    "### H3: Below are a few examples of evaluating arithmetic expressions in Python"
   ]
  },
  {
   "cell_type": "code",
   "execution_count": 1,
   "id": "94b67180-a7bc-49ff-bc63-3dc0cfc02c68",
   "metadata": {
    "tags": []
   },
   "outputs": [
    {
     "data": {
      "text/plain": [
       "17"
      ]
     },
     "execution_count": 1,
     "metadata": {},
     "output_type": "execute_result"
    }
   ],
   "source": [
    "'This a simple arithmetic expression to multiply then add integers'\n",
    "'Multiplication operation'\n",
    "(3*4)+5"
   ]
  },
  {
   "cell_type": "code",
   "execution_count": 2,
   "id": "17c94aa5-e75c-49b4-acfc-461ff0061090",
   "metadata": {
    "tags": []
   },
   "outputs": [
    {
     "data": {
      "text/plain": [
       "3.3333333333333335"
      ]
     },
     "execution_count": 2,
     "metadata": {},
     "output_type": "execute_result"
    }
   ],
   "source": [
    "'This will convert 200 minutes to hours by diving by 60'\n",
    "200/60"
   ]
  },
  {
   "cell_type": "code",
   "execution_count": null,
   "id": "793cfe27-ae2b-4c3c-b0b3-89368fa26bd4",
   "metadata": {},
   "outputs": [],
   "source": []
  }
 ],
 "metadata": {
  "kernelspec": {
   "display_name": "Python",
   "language": "python",
   "name": "conda-env-python-py"
  },
  "language_info": {
   "codemirror_mode": {
    "name": "ipython",
    "version": 3
   },
   "file_extension": ".py",
   "mimetype": "text/x-python",
   "name": "python",
   "nbconvert_exporter": "python",
   "pygments_lexer": "ipython3",
   "version": "3.7.12"
  }
 },
 "nbformat": 4,
 "nbformat_minor": 5
}
